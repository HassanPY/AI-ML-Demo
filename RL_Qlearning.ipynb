{
  "nbformat": 4,
  "nbformat_minor": 0,
  "metadata": {
    "colab": {
      "provenance": []
    },
    "kernelspec": {
      "name": "python3",
      "display_name": "Python 3"
    },
    "language_info": {
      "name": "python"
    },
    "widgets": {
      "application/vnd.jupyter.widget-state+json": {
        "3391abf501814d5282bf862c165ffcda": {
          "model_module": "@jupyter-widgets/controls",
          "model_name": "HBoxModel",
          "model_module_version": "1.5.0",
          "state": {
            "_dom_classes": [],
            "_model_module": "@jupyter-widgets/controls",
            "_model_module_version": "1.5.0",
            "_model_name": "HBoxModel",
            "_view_count": null,
            "_view_module": "@jupyter-widgets/controls",
            "_view_module_version": "1.5.0",
            "_view_name": "HBoxView",
            "box_style": "",
            "children": [
              "IPY_MODEL_25106ee487d84b09859256f82049b06e",
              "IPY_MODEL_678b3592fe984c3bb0da740ebbcc041a",
              "IPY_MODEL_5020dc53fe974545b15b0bc44b2b45e8"
            ],
            "layout": "IPY_MODEL_4583dc470c3f4746993d7be7ac1b7d00"
          }
        },
        "25106ee487d84b09859256f82049b06e": {
          "model_module": "@jupyter-widgets/controls",
          "model_name": "HTMLModel",
          "model_module_version": "1.5.0",
          "state": {
            "_dom_classes": [],
            "_model_module": "@jupyter-widgets/controls",
            "_model_module_version": "1.5.0",
            "_model_name": "HTMLModel",
            "_view_count": null,
            "_view_module": "@jupyter-widgets/controls",
            "_view_module_version": "1.5.0",
            "_view_name": "HTMLView",
            "description": "",
            "description_tooltip": null,
            "layout": "IPY_MODEL_bd1ac98cad95495b9e0736844fa3a4a0",
            "placeholder": "​",
            "style": "IPY_MODEL_14685fb022b14d2db72e6c37bf95baea",
            "value": "100%"
          }
        },
        "678b3592fe984c3bb0da740ebbcc041a": {
          "model_module": "@jupyter-widgets/controls",
          "model_name": "FloatProgressModel",
          "model_module_version": "1.5.0",
          "state": {
            "_dom_classes": [],
            "_model_module": "@jupyter-widgets/controls",
            "_model_module_version": "1.5.0",
            "_model_name": "FloatProgressModel",
            "_view_count": null,
            "_view_module": "@jupyter-widgets/controls",
            "_view_module_version": "1.5.0",
            "_view_name": "ProgressView",
            "bar_style": "success",
            "description": "",
            "description_tooltip": null,
            "layout": "IPY_MODEL_071269b005e64337810d0fbb4cd2e932",
            "max": 15000,
            "min": 0,
            "orientation": "horizontal",
            "style": "IPY_MODEL_d90f077862904fb4a03a8455234f3538",
            "value": 15000
          }
        },
        "5020dc53fe974545b15b0bc44b2b45e8": {
          "model_module": "@jupyter-widgets/controls",
          "model_name": "HTMLModel",
          "model_module_version": "1.5.0",
          "state": {
            "_dom_classes": [],
            "_model_module": "@jupyter-widgets/controls",
            "_model_module_version": "1.5.0",
            "_model_name": "HTMLModel",
            "_view_count": null,
            "_view_module": "@jupyter-widgets/controls",
            "_view_module_version": "1.5.0",
            "_view_name": "HTMLView",
            "description": "",
            "description_tooltip": null,
            "layout": "IPY_MODEL_5f69af08f6614c209dbd6d50999ba482",
            "placeholder": "​",
            "style": "IPY_MODEL_c6553ea16eba462e80eea2c6b0e23394",
            "value": " 15000/15000 [00:11&lt;00:00, 1533.83it/s]"
          }
        },
        "4583dc470c3f4746993d7be7ac1b7d00": {
          "model_module": "@jupyter-widgets/base",
          "model_name": "LayoutModel",
          "model_module_version": "1.2.0",
          "state": {
            "_model_module": "@jupyter-widgets/base",
            "_model_module_version": "1.2.0",
            "_model_name": "LayoutModel",
            "_view_count": null,
            "_view_module": "@jupyter-widgets/base",
            "_view_module_version": "1.2.0",
            "_view_name": "LayoutView",
            "align_content": null,
            "align_items": null,
            "align_self": null,
            "border": null,
            "bottom": null,
            "display": null,
            "flex": null,
            "flex_flow": null,
            "grid_area": null,
            "grid_auto_columns": null,
            "grid_auto_flow": null,
            "grid_auto_rows": null,
            "grid_column": null,
            "grid_gap": null,
            "grid_row": null,
            "grid_template_areas": null,
            "grid_template_columns": null,
            "grid_template_rows": null,
            "height": null,
            "justify_content": null,
            "justify_items": null,
            "left": null,
            "margin": null,
            "max_height": null,
            "max_width": null,
            "min_height": null,
            "min_width": null,
            "object_fit": null,
            "object_position": null,
            "order": null,
            "overflow": null,
            "overflow_x": null,
            "overflow_y": null,
            "padding": null,
            "right": null,
            "top": null,
            "visibility": null,
            "width": null
          }
        },
        "bd1ac98cad95495b9e0736844fa3a4a0": {
          "model_module": "@jupyter-widgets/base",
          "model_name": "LayoutModel",
          "model_module_version": "1.2.0",
          "state": {
            "_model_module": "@jupyter-widgets/base",
            "_model_module_version": "1.2.0",
            "_model_name": "LayoutModel",
            "_view_count": null,
            "_view_module": "@jupyter-widgets/base",
            "_view_module_version": "1.2.0",
            "_view_name": "LayoutView",
            "align_content": null,
            "align_items": null,
            "align_self": null,
            "border": null,
            "bottom": null,
            "display": null,
            "flex": null,
            "flex_flow": null,
            "grid_area": null,
            "grid_auto_columns": null,
            "grid_auto_flow": null,
            "grid_auto_rows": null,
            "grid_column": null,
            "grid_gap": null,
            "grid_row": null,
            "grid_template_areas": null,
            "grid_template_columns": null,
            "grid_template_rows": null,
            "height": null,
            "justify_content": null,
            "justify_items": null,
            "left": null,
            "margin": null,
            "max_height": null,
            "max_width": null,
            "min_height": null,
            "min_width": null,
            "object_fit": null,
            "object_position": null,
            "order": null,
            "overflow": null,
            "overflow_x": null,
            "overflow_y": null,
            "padding": null,
            "right": null,
            "top": null,
            "visibility": null,
            "width": null
          }
        },
        "14685fb022b14d2db72e6c37bf95baea": {
          "model_module": "@jupyter-widgets/controls",
          "model_name": "DescriptionStyleModel",
          "model_module_version": "1.5.0",
          "state": {
            "_model_module": "@jupyter-widgets/controls",
            "_model_module_version": "1.5.0",
            "_model_name": "DescriptionStyleModel",
            "_view_count": null,
            "_view_module": "@jupyter-widgets/base",
            "_view_module_version": "1.2.0",
            "_view_name": "StyleView",
            "description_width": ""
          }
        },
        "071269b005e64337810d0fbb4cd2e932": {
          "model_module": "@jupyter-widgets/base",
          "model_name": "LayoutModel",
          "model_module_version": "1.2.0",
          "state": {
            "_model_module": "@jupyter-widgets/base",
            "_model_module_version": "1.2.0",
            "_model_name": "LayoutModel",
            "_view_count": null,
            "_view_module": "@jupyter-widgets/base",
            "_view_module_version": "1.2.0",
            "_view_name": "LayoutView",
            "align_content": null,
            "align_items": null,
            "align_self": null,
            "border": null,
            "bottom": null,
            "display": null,
            "flex": null,
            "flex_flow": null,
            "grid_area": null,
            "grid_auto_columns": null,
            "grid_auto_flow": null,
            "grid_auto_rows": null,
            "grid_column": null,
            "grid_gap": null,
            "grid_row": null,
            "grid_template_areas": null,
            "grid_template_columns": null,
            "grid_template_rows": null,
            "height": null,
            "justify_content": null,
            "justify_items": null,
            "left": null,
            "margin": null,
            "max_height": null,
            "max_width": null,
            "min_height": null,
            "min_width": null,
            "object_fit": null,
            "object_position": null,
            "order": null,
            "overflow": null,
            "overflow_x": null,
            "overflow_y": null,
            "padding": null,
            "right": null,
            "top": null,
            "visibility": null,
            "width": null
          }
        },
        "d90f077862904fb4a03a8455234f3538": {
          "model_module": "@jupyter-widgets/controls",
          "model_name": "ProgressStyleModel",
          "model_module_version": "1.5.0",
          "state": {
            "_model_module": "@jupyter-widgets/controls",
            "_model_module_version": "1.5.0",
            "_model_name": "ProgressStyleModel",
            "_view_count": null,
            "_view_module": "@jupyter-widgets/base",
            "_view_module_version": "1.2.0",
            "_view_name": "StyleView",
            "bar_color": null,
            "description_width": ""
          }
        },
        "5f69af08f6614c209dbd6d50999ba482": {
          "model_module": "@jupyter-widgets/base",
          "model_name": "LayoutModel",
          "model_module_version": "1.2.0",
          "state": {
            "_model_module": "@jupyter-widgets/base",
            "_model_module_version": "1.2.0",
            "_model_name": "LayoutModel",
            "_view_count": null,
            "_view_module": "@jupyter-widgets/base",
            "_view_module_version": "1.2.0",
            "_view_name": "LayoutView",
            "align_content": null,
            "align_items": null,
            "align_self": null,
            "border": null,
            "bottom": null,
            "display": null,
            "flex": null,
            "flex_flow": null,
            "grid_area": null,
            "grid_auto_columns": null,
            "grid_auto_flow": null,
            "grid_auto_rows": null,
            "grid_column": null,
            "grid_gap": null,
            "grid_row": null,
            "grid_template_areas": null,
            "grid_template_columns": null,
            "grid_template_rows": null,
            "height": null,
            "justify_content": null,
            "justify_items": null,
            "left": null,
            "margin": null,
            "max_height": null,
            "max_width": null,
            "min_height": null,
            "min_width": null,
            "object_fit": null,
            "object_position": null,
            "order": null,
            "overflow": null,
            "overflow_x": null,
            "overflow_y": null,
            "padding": null,
            "right": null,
            "top": null,
            "visibility": null,
            "width": null
          }
        },
        "c6553ea16eba462e80eea2c6b0e23394": {
          "model_module": "@jupyter-widgets/controls",
          "model_name": "DescriptionStyleModel",
          "model_module_version": "1.5.0",
          "state": {
            "_model_module": "@jupyter-widgets/controls",
            "_model_module_version": "1.5.0",
            "_model_name": "DescriptionStyleModel",
            "_view_count": null,
            "_view_module": "@jupyter-widgets/base",
            "_view_module_version": "1.2.0",
            "_view_name": "StyleView",
            "description_width": ""
          }
        }
      }
    }
  },
  "cells": [
    {
      "cell_type": "markdown",
      "source": [
        "Based on the work of: Abid Ali Awan\n",
        "\n",
        "An Introduction to Q-Learning: A Tutorial For Beginners\n",
        "Learn about the most popular model-free reinforcement learning algorithm with a Python tutorial.\n",
        "\n",
        "[Datacamp](https://www.datacamp.com/tutorial/introduction-q-learning-beginner-tutorial)\n",
        "\n"
      ],
      "metadata": {
        "id": "_bb7mSV0cKGW"
      }
    },
    {
      "cell_type": "code",
      "source": [
        "!pip3 install pyglet==1.5.1\n",
        "#!apt install python-opengl\n",
        "!apt-get install -y python3-opengl\n",
        "!apt install ffmpeg\n",
        "!apt install xvfb\n",
        "!pip3 install pyvirtualdisplay\n"
      ],
      "metadata": {
        "id": "mfqhRcH4O-6d"
      },
      "execution_count": null,
      "outputs": []
    },
    {
      "cell_type": "markdown",
      "source": [
        "**Setup a Virtual Display**\n",
        "\n",
        "\n",
        "*   We will first install all the dependencies to generate a replay video(Gif).\n",
        "*   We will need a virtual screen (pyvirtualdisplay) to render the environment and record the frames.\n"
      ],
      "metadata": {
        "id": "MjQGbk0vSws0"
      }
    },
    {
      "cell_type": "code",
      "execution_count": null,
      "metadata": {
        "id": "IlzAwMt1OtkE"
      },
      "outputs": [],
      "source": [
        "\n",
        "# Virtual display\n",
        "from pyvirtualdisplay import Display\n",
        "\n",
        "virtual_display = Display(visible=0, size=(1400, 900))\n",
        "virtual_display.start()"
      ]
    },
    {
      "cell_type": "markdown",
      "source": [
        "**Install dependencies**\n",
        "\n",
        "We will now install dependencies that will help us create, run, and evaluate the training loop.\n",
        "\n",
        "*   gym: Used to initialize the FrozenLake-v1 environment.\n",
        "*   pygame: Used for the FrozenLake-v1 UI.\n",
        "*   numPy: Used for creating and handling the Q-table.\n",
        "\n",
        "\n",
        "\n",
        "\n"
      ],
      "metadata": {
        "id": "6SBrSObETcvb"
      }
    },
    {
      "cell_type": "code",
      "source": [
        "!pip install gym==0.24\n",
        "!pip install pygame\n",
        "!pip install numpy\n",
        "\n",
        "!pip install imageio imageio_ffmpeg"
      ],
      "metadata": {
        "id": "1lr07KBSP33R"
      },
      "execution_count": null,
      "outputs": []
    },
    {
      "cell_type": "markdown",
      "source": [
        "**Import the packages**\n",
        "\n",
        "We will now import the required libraries.\n",
        "\n",
        "* Imageio is used for creating the animation.\n",
        "\n",
        "* tqdm is used for progress bars."
      ],
      "metadata": {
        "id": "9ritjVdDUIIr"
      }
    },
    {
      "cell_type": "code",
      "source": [
        "import numpy as np\n",
        "import gym\n",
        "import random\n",
        "import imageio\n",
        "from tqdm.notebook import trange"
      ],
      "metadata": {
        "id": "t8sT1lK2QKCD"
      },
      "execution_count": 2,
      "outputs": []
    },
    {
      "cell_type": "markdown",
      "source": [
        "**Frozen Lake Gym Environment **\n",
        "\n",
        "We are going to create a non-slippery 4x4 environment using the Frozen Lake gym library.\n",
        "\n",
        "* There are two grid versions, “4x4” and “8x8”.\n",
        "* If the `is_slippery=True`, the agent may not move in the intended direction   due to the slippery nature of the frozen lake.\n",
        "\n",
        "Discrete: describes a discrete space where {0, 1, …, n-1} are the possible values our observation or action can take. Values can be shifted to {a, a+1, …, a+n-1} using an optional argument.\n",
        "\n",
        "After initializing the environment, we will do an environmental analysis."
      ],
      "metadata": {
        "id": "73OfT-UtUroz"
      }
    },
    {
      "cell_type": "markdown",
      "source": [
        "There are 16(or 64) unique spaces in the environment displayed at random positions."
      ],
      "metadata": {
        "id": "8L1msL7lXbjU"
      }
    },
    {
      "cell_type": "code",
      "source": [
        "env = gym.make(\"FrozenLake-v1\",map_name=\"8x8\",is_slippery=False)\n",
        "\n",
        "print(\"Observation Space\", env.observation_space)\n",
        "print(\"Sample observation\", env.observation_space.sample()) # display a random observation"
      ],
      "metadata": {
        "colab": {
          "base_uri": "https://localhost:8080/"
        },
        "id": "0kWnnjU0QW1k",
        "outputId": "53f10a5c-4fed-4d9c-992c-9a55ea6a8171"
      },
      "execution_count": 20,
      "outputs": [
        {
          "output_type": "stream",
          "name": "stdout",
          "text": [
            "Observation Space Discrete(64)\n",
            "Sample observation 32\n"
          ]
        }
      ]
    },
    {
      "cell_type": "markdown",
      "source": [
        "**The action space:**\n",
        "\n",
        "0: move left\n",
        "\n",
        "1: move down\n",
        "\n",
        "2: move right\n",
        "\n",
        "3: move up\n",
        "\n",
        "**Reward function:**\n",
        "\n",
        "Reaching the goal: +1\n",
        "\n",
        "Falling into the hole: 0\n",
        "\n",
        "Staying on the frozen lake: 0\n",
        "\n"
      ],
      "metadata": {
        "id": "n6xe9qnSQzMH"
      }
    },
    {
      "cell_type": "code",
      "source": [
        "print(\"Action Space Shape\", env.action_space.n)\n",
        "print(\"Action Space Sample\", env.action_space.sample())"
      ],
      "metadata": {
        "colab": {
          "base_uri": "https://localhost:8080/"
        },
        "id": "nNj3X1BbRH5K",
        "outputId": "4fad1335-b62b-4de1-c95b-402175a25176"
      },
      "execution_count": 21,
      "outputs": [
        {
          "output_type": "stream",
          "name": "stdout",
          "text": [
            "Action Space Shape 4\n",
            "Action Space Sample 1\n"
          ]
        }
      ]
    },
    {
      "cell_type": "markdown",
      "source": [
        "**Create and Initialize the Q-table**\n",
        "\n",
        "The Q-Table has columns as actions, and rows as states. We can use OpenAI Gym to find action space and state space. We will then use this information to create the Q-Table."
      ],
      "metadata": {
        "id": "_7nI2Sc6YBH2"
      }
    },
    {
      "cell_type": "code",
      "source": [
        "state_space = env.observation_space.n\n",
        "print(\"There are \", state_space, \" possible states\")\n",
        "\n",
        "action_space = env.action_space.n\n",
        "print(\"There are \", action_space, \" possible actions\")"
      ],
      "metadata": {
        "colab": {
          "base_uri": "https://localhost:8080/"
        },
        "id": "XPOveuVKRUd_",
        "outputId": "26591947-291f-4d60-b46c-dcf4fa4e2e66"
      },
      "execution_count": 22,
      "outputs": [
        {
          "output_type": "stream",
          "name": "stdout",
          "text": [
            "There are  64  possible states\n",
            "There are  4  possible actions\n"
          ]
        }
      ]
    },
    {
      "cell_type": "markdown",
      "source": [
        "For initializing the Q-Table, we will create a Numpy array of state_space and actions space. We will create a 64 X 4 array."
      ],
      "metadata": {
        "id": "PzRWCgfUYdTY"
      }
    },
    {
      "cell_type": "code",
      "source": [
        "def initialize_q_table(state_space, action_space):\n",
        "  Qtable = np.zeros((state_space, action_space))\n",
        "  return Qtable\n",
        "\n",
        "Qtable_frozenlake = initialize_q_table(state_space, action_space)"
      ],
      "metadata": {
        "id": "vuqMPZR5RbAI"
      },
      "execution_count": 23,
      "outputs": []
    },
    {
      "cell_type": "markdown",
      "source": [
        "**Epsilon-greedy policy**\n",
        "\n",
        "In the previous section, we have learned about the epsilon greedy strategy that handles exploration and exploitation tradeoffs. With a Probability of 1 - ɛ, we do exploitation, and with the probability ɛ, we do exploration.\n",
        "\n",
        "In the epsilon_greedy_policy we will:\n",
        "\n",
        "1. Generate the random number between 0 to 1.\n",
        "2. If the random number is greater than epsilon, we will do **exploitation**. It means that the agent will take the action with the highest value given a state.\n",
        "3. Else, we will do **exploration** (Taking random action)."
      ],
      "metadata": {
        "id": "sAizahgTYo26"
      }
    },
    {
      "cell_type": "code",
      "source": [
        "def epsilon_greedy_policy(Qtable, state, epsilon):\n",
        "  random_int = random.uniform(0,1)\n",
        "  if random_int > epsilon:\n",
        "    action = np.argmax(Qtable[state])\n",
        "  else:\n",
        "    action = env.action_space.sample()\n",
        "  return action"
      ],
      "metadata": {
        "id": "an_DPzZjRfNw"
      },
      "execution_count": 24,
      "outputs": []
    },
    {
      "cell_type": "markdown",
      "source": [
        "## **Define the greedy policy**\n",
        "\n",
        "As we now know that Q-learning is an off-policy algorithm which means that the policy of taking action and updating function is different.\n",
        "\n",
        "In this example, the Epsilon Greedy policy is acting policy, and the Greedy policy is updating policy.\n",
        "\n",
        "The Greedy policy will also be the final policy when the agent is trained. It is used to select the highest state and action value from the Q-Table."
      ],
      "metadata": {
        "id": "J8uhP8QqZm7-"
      }
    },
    {
      "cell_type": "code",
      "source": [
        "def greedy_policy(Qtable, state):\n",
        "  action = np.argmax(Qtable[state])\n",
        "  return action"
      ],
      "metadata": {
        "id": "2mlZHB2ZRgtT"
      },
      "execution_count": 25,
      "outputs": []
    },
    {
      "cell_type": "markdown",
      "source": [
        "## **Model hyperparameters**\n",
        "\n",
        "These hyperparameters are used in the training loop, and fine-tuning them will give you better results.\n",
        "\n",
        "The Agent needs to explore enough state space to learn good value approximation; we need to have progressive decay of epsilon. If the decay rate is high, the agent might get stuck as it has not explored enough state space.\n",
        "\n",
        "* There are 10,000 training and 100 evaluation episodes.\n",
        "* The learning rate is 0.7.\n",
        "* We are using \"FrozenLake-v1\" as an environment with 99 maximum steps per episode.\n",
        "* The gamma (discount rate) is 0.95.\n",
        "* eval_seed: evaluation seed for the environment.\n",
        "* The exploration epsilon probability at the start is 1.0, and the minimum probability will be 0.05.\n",
        "* The exponential decay rate for epsilon probability is 0.0005."
      ],
      "metadata": {
        "id": "a-EHT7qgaDsG"
      }
    },
    {
      "cell_type": "code",
      "source": [
        "# Training parameters\n",
        "n_training_episodes = 15000\n",
        "learning_rate = 0.7\n",
        "\n",
        "# Evaluation parameters\n",
        "n_eval_episodes = 100\n",
        "\n",
        "# Environment parameters\n",
        "env_id = \"FrozenLake-v1\"\n",
        "max_steps = 200\n",
        "gamma = 0.95\n",
        "eval_seed = []\n",
        "\n",
        "# Exploration parameters\n",
        "max_epsilon = 1.0\n",
        "min_epsilon = 0.05\n",
        "decay_rate = 0.0005"
      ],
      "metadata": {
        "id": "-Hz-xp1fRnhN"
      },
      "execution_count": 40,
      "outputs": []
    },
    {
      "cell_type": "markdown",
      "source": [
        "Model Training\n",
        "\n",
        "In the training loop, we will:\n",
        "\n",
        "1. Create a loop for training episodes.\n",
        "2. We will first reduce epsilon. As we need less and less exploration and more exploitation with every episode.\n",
        "3. Reset the environment.\n",
        "4. Create a nested loop for the maximum steps.\n",
        "5. Choose the action using the epsilon greedy policy.\n",
        "6. Take action (At) and observe the expected reward(Rt+1) and state(St+1).\n",
        "7. Take the action (a) and observe the outcome state(s') and reward (r).\n",
        "8. Update the Q-function using the formula.\n",
        "9. If `done= True`, finish the episode and break the loop.\n",
        "10. Finally, change the current state to a new state.\n",
        "11. After completing all of the training episodes, the function will return the updated Q-Table."
      ],
      "metadata": {
        "id": "B6LRiV8ibsDR"
      }
    },
    {
      "cell_type": "code",
      "source": [
        "def train(n_training_episodes, min_epsilon, max_epsilon, decay_rate, env, max_steps, Qtable):\n",
        "  for episode in trange(n_training_episodes):\n",
        "\n",
        "    epsilon = min_epsilon + (max_epsilon - min_epsilon)*np.exp(-decay_rate*episode)\n",
        "    # Reset the environment\n",
        "    state = env.reset()\n",
        "    step = 0\n",
        "    done = False\n",
        "\n",
        "    # repeat\n",
        "    for step in range(max_steps):\n",
        "\n",
        "      action = epsilon_greedy_policy(Qtable, state, epsilon)\n",
        "\n",
        "\n",
        "      new_state, reward, done, info = env.step(action)\n",
        "\n",
        "\n",
        "      Qtable[state][action] = Qtable[state][action] + learning_rate * (reward + gamma * np.max(Qtable[new_state]) - Qtable[state][action])\n",
        "\n",
        "      # If done, finish the episode\n",
        "      if done:\n",
        "        break\n",
        "\n",
        "      # Our state is the new state\n",
        "      state = new_state\n",
        "  return Qtable"
      ],
      "metadata": {
        "id": "Xj99X8wkRpFA"
      },
      "execution_count": 41,
      "outputs": []
    },
    {
      "cell_type": "code",
      "source": [
        "Qtable_frozenlake = train(n_training_episodes, min_epsilon, max_epsilon, decay_rate, env, max_steps, Qtable_frozenlake)"
      ],
      "metadata": {
        "colab": {
          "base_uri": "https://localhost:8080/",
          "height": 49,
          "referenced_widgets": [
            "3391abf501814d5282bf862c165ffcda",
            "25106ee487d84b09859256f82049b06e",
            "678b3592fe984c3bb0da740ebbcc041a",
            "5020dc53fe974545b15b0bc44b2b45e8",
            "4583dc470c3f4746993d7be7ac1b7d00",
            "bd1ac98cad95495b9e0736844fa3a4a0",
            "14685fb022b14d2db72e6c37bf95baea",
            "071269b005e64337810d0fbb4cd2e932",
            "d90f077862904fb4a03a8455234f3538",
            "5f69af08f6614c209dbd6d50999ba482",
            "c6553ea16eba462e80eea2c6b0e23394"
          ]
        },
        "id": "BDQzI2w9RwlA",
        "outputId": "35e1884a-d8e1-4b43-88eb-6e3eba207cf1"
      },
      "execution_count": 42,
      "outputs": [
        {
          "output_type": "display_data",
          "data": {
            "text/plain": [
              "  0%|          | 0/15000 [00:00<?, ?it/s]"
            ],
            "application/vnd.jupyter.widget-view+json": {
              "version_major": 2,
              "version_minor": 0,
              "model_id": "3391abf501814d5282bf862c165ffcda"
            }
          },
          "metadata": {}
        }
      ]
    },
    {
      "cell_type": "markdown",
      "source": [
        "As we can see, the trained Q-Table has values, and the agent will now use these values to navigate the environment and achieve the goal.  "
      ],
      "metadata": {
        "id": "J7mcM7ZIddF3"
      }
    },
    {
      "cell_type": "code",
      "source": [
        "Qtable_frozenlake"
      ],
      "metadata": {
        "colab": {
          "base_uri": "https://localhost:8080/"
        },
        "id": "mGQwJu0cR0sx",
        "outputId": "5ab5f77f-2ddb-41e4-fdd7-fa75a244d82d"
      },
      "execution_count": 43,
      "outputs": [
        {
          "output_type": "execute_result",
          "data": {
            "text/plain": [
              "array([[0.48767498, 0.51334208, 0.51334208, 0.48767498],\n",
              "       [0.48767498, 0.54036009, 0.54036009, 0.51334208],\n",
              "       [0.51334208, 0.56880009, 0.56880009, 0.54036009],\n",
              "       [0.54036009, 0.59873694, 0.59873694, 0.56880009],\n",
              "       [0.56880009, 0.63024941, 0.63024941, 0.59873694],\n",
              "       [0.59873694, 0.66342043, 0.66342043, 0.63024941],\n",
              "       [0.63024941, 0.6983373 , 0.6983373 , 0.66342043],\n",
              "       [0.66342015, 0.73509189, 0.69833728, 0.6983373 ],\n",
              "       [0.51334208, 0.54036009, 0.54036009, 0.48767498],\n",
              "       [0.51334208, 0.56880009, 0.56880009, 0.51334208],\n",
              "       [0.54036009, 0.59873694, 0.59873694, 0.54036009],\n",
              "       [0.56880009, 0.        , 0.63024941, 0.56880009],\n",
              "       [0.59873694, 0.66342043, 0.66342043, 0.59873694],\n",
              "       [0.63024941, 0.6983373 , 0.6983373 , 0.63024941],\n",
              "       [0.66342043, 0.73509189, 0.73509189, 0.66342043],\n",
              "       [0.6983373 , 0.77378094, 0.73509189, 0.6983373 ],\n",
              "       [0.54036009, 0.56880009, 0.56880009, 0.51334208],\n",
              "       [0.54036009, 0.59873694, 0.59873694, 0.54036009],\n",
              "       [0.56880009, 0.63024941, 0.        , 0.56880009],\n",
              "       [0.        , 0.        , 0.        , 0.        ],\n",
              "       [0.        , 0.6983373 , 0.6983373 , 0.63024941],\n",
              "       [0.66342043, 0.        , 0.73509189, 0.66342043],\n",
              "       [0.6983373 , 0.77378094, 0.77378094, 0.6983373 ],\n",
              "       [0.73509189, 0.81450625, 0.77378094, 0.73509189],\n",
              "       [0.56880009, 0.54036009, 0.59873694, 0.54036009],\n",
              "       [0.56880009, 0.56880009, 0.63024941, 0.56880009],\n",
              "       [0.59873694, 0.59873694, 0.66342043, 0.59873694],\n",
              "       [0.63024941, 0.        , 0.6983373 , 0.        ],\n",
              "       [0.66342043, 0.73509189, 0.        , 0.66342043],\n",
              "       [0.        , 0.        , 0.        , 0.        ],\n",
              "       [0.        , 0.81450625, 0.81450625, 0.73509189],\n",
              "       [0.77378094, 0.857375  , 0.81450625, 0.77378094],\n",
              "       [0.54036009, 0.51334208, 0.56880009, 0.56880009],\n",
              "       [0.54036009, 0.        , 0.59873694, 0.59873694],\n",
              "       [0.56880009, 0.        , 0.        , 0.63024941],\n",
              "       [0.        , 0.        , 0.        , 0.        ],\n",
              "       [0.        , 0.6983373 , 0.77378094, 0.6983373 ],\n",
              "       [0.73509189, 0.73509189, 0.81450625, 0.        ],\n",
              "       [0.77378094, 0.        , 0.857375  , 0.77378094],\n",
              "       [0.81450625, 0.9025    , 0.857375  , 0.81450625],\n",
              "       [0.51320369, 0.48526363, 0.        , 0.54036009],\n",
              "       [0.        , 0.        , 0.        , 0.        ],\n",
              "       [0.        , 0.        , 0.        , 0.        ],\n",
              "       [0.        , 0.        , 0.6983373 , 0.        ],\n",
              "       [0.66342043, 0.        , 0.73509189, 0.73509189],\n",
              "       [0.6983373 , 0.69833594, 0.        , 0.77378094],\n",
              "       [0.        , 0.        , 0.        , 0.        ],\n",
              "       [0.        , 0.95      , 0.9025    , 0.857375  ],\n",
              "       [0.39790209, 0.        , 0.        , 0.51317545],\n",
              "       [0.        , 0.        , 0.        , 0.        ],\n",
              "       [0.        , 0.        , 0.        , 0.        ],\n",
              "       [0.        , 0.        , 0.        , 0.        ],\n",
              "       [0.        , 0.        , 0.        , 0.        ],\n",
              "       [0.        , 0.        , 0.        , 0.73509177],\n",
              "       [0.        , 0.        , 0.        , 0.        ],\n",
              "       [0.        , 1.        , 0.95      , 0.9025    ],\n",
              "       [0.        , 0.        , 0.        , 0.29625284],\n",
              "       [0.        , 0.        , 0.        , 0.        ],\n",
              "       [0.        , 0.        , 0.        , 0.        ],\n",
              "       [0.        , 0.        , 0.        , 0.        ],\n",
              "       [0.        , 0.        , 0.        , 0.        ],\n",
              "       [0.        , 0.        , 0.        , 0.        ],\n",
              "       [0.        , 0.        , 0.        , 0.        ],\n",
              "       [0.        , 0.        , 0.        , 0.        ]])"
            ]
          },
          "metadata": {},
          "execution_count": 43
        }
      ]
    },
    {
      "cell_type": "markdown",
      "source": [
        "## **Evaluation**\n",
        "\n",
        "The evaluate_agent runs for `n_eval_episodes` episodes and returns the mean and standard deviation of the reward.\n",
        "\n",
        "1. In the loop, we will first check if there is an evaluation seed. If not, then we will reset the environment without seed.\n",
        "2. The nested loop will run to max_steps.\n",
        "3. The agent will take the action that has the maximum expected future reward in a given state using Q-Table.\n",
        "4. Calculate the reward.\n",
        "5. Change the state.\n",
        "6. If done (agent falls into the hole or goal has been achieved), break the loop.\n",
        "7. Append the results.\n",
        "8. In the end, we will use these results to calculate the mean and standard deviation."
      ],
      "metadata": {
        "id": "OOM71xR_dyOG"
      }
    },
    {
      "cell_type": "code",
      "source": [
        "def evaluate_agent(env, max_steps, n_eval_episodes, Q, seed):\n",
        "\n",
        "  episode_rewards = []\n",
        "  for episode in range(n_eval_episodes):\n",
        "    if seed:\n",
        "      state = env.reset(seed=seed[episode])\n",
        "    else:\n",
        "      state = env.reset()\n",
        "    step = 0\n",
        "    done = False\n",
        "    total_rewards_ep = 0\n",
        "\n",
        "    for step in range(max_steps):\n",
        "      # Take the action (index) that have the maximum reward\n",
        "      action = np.argmax(Q[state][:])\n",
        "      new_state, reward, done, info = env.step(action)\n",
        "      total_rewards_ep += reward\n",
        "\n",
        "      if done:\n",
        "        break\n",
        "      state = new_state\n",
        "    episode_rewards.append(total_rewards_ep)\n",
        "  mean_reward = np.mean(episode_rewards)\n",
        "  std_reward = np.std(episode_rewards)\n",
        "\n",
        "  return mean_reward, std_reward"
      ],
      "metadata": {
        "id": "F4I8Cu1oSEob"
      },
      "execution_count": 44,
      "outputs": []
    },
    {
      "cell_type": "markdown",
      "source": [
        "As you can see, we got the perfect score with zero standard deviation. It means that our agent has reached the goal in all 100 episodes."
      ],
      "metadata": {
        "id": "AI952ru5eWgn"
      }
    },
    {
      "cell_type": "code",
      "source": [
        "# Evaluate our Agent\n",
        "mean_reward, std_reward = evaluate_agent(env, max_steps, n_eval_episodes, Qtable_frozenlake, eval_seed)\n",
        "print(f\"Mean_reward={mean_reward:.2f} +/- {std_reward:.2f}\")"
      ],
      "metadata": {
        "colab": {
          "base_uri": "https://localhost:8080/"
        },
        "id": "_pLfU5nqSHiJ",
        "outputId": "1774ec34-9b3f-40c1-fb7b-270592010449"
      },
      "execution_count": 45,
      "outputs": [
        {
          "output_type": "stream",
          "name": "stdout",
          "text": [
            "Mean_reward=1.00 +/- 0.00\n"
          ]
        }
      ]
    },
    {
      "cell_type": "markdown",
      "source": [
        "## **Visualizing the result**\n",
        "\n",
        "Till now, we have been playing with numbers, and to give the demo, we need to create an animated Gif of the agent from the start till it reaches the goal.\n",
        "\n",
        "1. We will first create the state by resetting the environment with a random integer 0-500.\n",
        "2. Render the environment using rdb_array to create an image array.\n",
        "3. Then append the `img` to the `images` array.\n",
        "4. In the loop, we will take the step using the Q-Table and render the image for every step.\n",
        "5. In the end, we will use this array and imageio to create a Gif of one frame per second."
      ],
      "metadata": {
        "id": "oLBjanK_egNz"
      }
    },
    {
      "cell_type": "code",
      "source": [
        "def record_video(env, Qtable, out_directory, fps=1):\n",
        "  images = []\n",
        "  done = False\n",
        "  state = env.reset(seed=random.randint(0,500))\n",
        "  img = env.render(mode='rgb_array')\n",
        "  images.append(img)\n",
        "  while not done:\n",
        "    # Take the action (index) that have the maximum expected future reward given that state\n",
        "    action = np.argmax(Qtable[state][:])\n",
        "    state, reward, done, info = env.step(action) # We directly put next_state = state for recording logic\n",
        "    img = env.render(mode='rgb_array')\n",
        "    images.append(img)\n",
        "  imageio.mimsave(out_directory, [np.array(img) for i, img in enumerate(images)], fps=fps)"
      ],
      "metadata": {
        "id": "gyV-p1FzSR3t"
      },
      "execution_count": 46,
      "outputs": []
    },
    {
      "cell_type": "markdown",
      "source": [
        "If you are in a Jupyter notebook, you can display the Gif using the `IPython.display` Image function."
      ],
      "metadata": {
        "id": "ZtSHhXESfCeM"
      }
    },
    {
      "cell_type": "code",
      "source": [
        "video_path=\"/content/replay.gif\"\n",
        "video_fps=1\n",
        "record_video(env, Qtable_frozenlake, video_path, video_fps)\n",
        "\n",
        "from IPython.display import Image\n",
        "Image('./replay.gif')"
      ],
      "metadata": {
        "colab": {
          "base_uri": "https://localhost:8080/",
          "height": 529
        },
        "id": "PjJk3cllSaOz",
        "outputId": "508c3e41-6a32-4b09-8a34-8e28437c9504"
      },
      "execution_count": 55,
      "outputs": [
        {
          "output_type": "execute_result",
          "data": {
            "image/gif": "[encoded data removed]",
            "text/plain": [
              "<IPython.core.display.Image object>"
            ]
          },
          "metadata": {},
          "execution_count": 55
        }
      ]
    }
  ]
}