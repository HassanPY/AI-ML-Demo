{
  "nbformat": 4,
  "nbformat_minor": 0,
  "metadata": {
    "colab": {
      "provenance": []
    },
    "kernelspec": {
      "name": "python3",
      "display_name": "Python 3"
    },
    "language_info": {
      "name": "python"
    },
    "widgets": {
      "application/vnd.jupyter.widget-state+json": {
        "834f60c8b3a540eab718f044788ae4ac": {
          "model_module": "@jupyter-widgets/controls",
          "model_name": "HBoxModel",
          "model_module_version": "1.5.0",
          "state": {
            "_dom_classes": [],
            "_model_module": "@jupyter-widgets/controls",
            "_model_module_version": "1.5.0",
            "_model_name": "HBoxModel",
            "_view_count": null,
            "_view_module": "@jupyter-widgets/controls",
            "_view_module_version": "1.5.0",
            "_view_name": "HBoxView",
            "box_style": "",
            "children": [
              "IPY_MODEL_c364fda5eb1e4677a178f91c368cb72c",
              "IPY_MODEL_6e8e4d75b32f4ab0a5499ccf6279d084",
              "IPY_MODEL_033713c6b8a346d7881fdf36169ad192"
            ],
            "layout": "IPY_MODEL_5d5f46e1f31e4a78bf44f9790a709fde"
          }
        },
        "c364fda5eb1e4677a178f91c368cb72c": {
          "model_module": "@jupyter-widgets/controls",
          "model_name": "HTMLModel",
          "model_module_version": "1.5.0",
          "state": {
            "_dom_classes": [],
            "_model_module": "@jupyter-widgets/controls",
            "_model_module_version": "1.5.0",
            "_model_name": "HTMLModel",
            "_view_count": null,
            "_view_module": "@jupyter-widgets/controls",
            "_view_module_version": "1.5.0",
            "_view_name": "HTMLView",
            "description": "",
            "description_tooltip": null,
            "layout": "IPY_MODEL_f894b210cb3d4780a6acb113180ee430",
            "placeholder": "​",
            "style": "IPY_MODEL_42e0107cb0b64b4ea029d1caa7ba21a0",
            "value": "100%"
          }
        },
        "6e8e4d75b32f4ab0a5499ccf6279d084": {
          "model_module": "@jupyter-widgets/controls",
          "model_name": "FloatProgressModel",
          "model_module_version": "1.5.0",
          "state": {
            "_dom_classes": [],
            "_model_module": "@jupyter-widgets/controls",
            "_model_module_version": "1.5.0",
            "_model_name": "FloatProgressModel",
            "_view_count": null,
            "_view_module": "@jupyter-widgets/controls",
            "_view_module_version": "1.5.0",
            "_view_name": "ProgressView",
            "bar_style": "success",
            "description": "",
            "description_tooltip": null,
            "layout": "IPY_MODEL_32ae530e842d402cac58728c66c582f3",
            "max": 20000,
            "min": 0,
            "orientation": "horizontal",
            "style": "IPY_MODEL_8391080184904a358fc99576c781d776",
            "value": 20000
          }
        },
        "033713c6b8a346d7881fdf36169ad192": {
          "model_module": "@jupyter-widgets/controls",
          "model_name": "HTMLModel",
          "model_module_version": "1.5.0",
          "state": {
            "_dom_classes": [],
            "_model_module": "@jupyter-widgets/controls",
            "_model_module_version": "1.5.0",
            "_model_name": "HTMLModel",
            "_view_count": null,
            "_view_module": "@jupyter-widgets/controls",
            "_view_module_version": "1.5.0",
            "_view_name": "HTMLView",
            "description": "",
            "description_tooltip": null,
            "layout": "IPY_MODEL_72131432607641709aee4a4ead3faf48",
            "placeholder": "​",
            "style": "IPY_MODEL_94c9d54ae2bc432b9ee2011568ce4e91",
            "value": " 20000/20000 [00:25&lt;00:00, 885.65it/s]"
          }
        },
        "5d5f46e1f31e4a78bf44f9790a709fde": {
          "model_module": "@jupyter-widgets/base",
          "model_name": "LayoutModel",
          "model_module_version": "1.2.0",
          "state": {
            "_model_module": "@jupyter-widgets/base",
            "_model_module_version": "1.2.0",
            "_model_name": "LayoutModel",
            "_view_count": null,
            "_view_module": "@jupyter-widgets/base",
            "_view_module_version": "1.2.0",
            "_view_name": "LayoutView",
            "align_content": null,
            "align_items": null,
            "align_self": null,
            "border": null,
            "bottom": null,
            "display": null,
            "flex": null,
            "flex_flow": null,
            "grid_area": null,
            "grid_auto_columns": null,
            "grid_auto_flow": null,
            "grid_auto_rows": null,
            "grid_column": null,
            "grid_gap": null,
            "grid_row": null,
            "grid_template_areas": null,
            "grid_template_columns": null,
            "grid_template_rows": null,
            "height": null,
            "justify_content": null,
            "justify_items": null,
            "left": null,
            "margin": null,
            "max_height": null,
            "max_width": null,
            "min_height": null,
            "min_width": null,
            "object_fit": null,
            "object_position": null,
            "order": null,
            "overflow": null,
            "overflow_x": null,
            "overflow_y": null,
            "padding": null,
            "right": null,
            "top": null,
            "visibility": null,
            "width": null
          }
        },
        "f894b210cb3d4780a6acb113180ee430": {
          "model_module": "@jupyter-widgets/base",
          "model_name": "LayoutModel",
          "model_module_version": "1.2.0",
          "state": {
            "_model_module": "@jupyter-widgets/base",
            "_model_module_version": "1.2.0",
            "_model_name": "LayoutModel",
            "_view_count": null,
            "_view_module": "@jupyter-widgets/base",
            "_view_module_version": "1.2.0",
            "_view_name": "LayoutView",
            "align_content": null,
            "align_items": null,
            "align_self": null,
            "border": null,
            "bottom": null,
            "display": null,
            "flex": null,
            "flex_flow": null,
            "grid_area": null,
            "grid_auto_columns": null,
            "grid_auto_flow": null,
            "grid_auto_rows": null,
            "grid_column": null,
            "grid_gap": null,
            "grid_row": null,
            "grid_template_areas": null,
            "grid_template_columns": null,
            "grid_template_rows": null,
            "height": null,
            "justify_content": null,
            "justify_items": null,
            "left": null,
            "margin": null,
            "max_height": null,
            "max_width": null,
            "min_height": null,
            "min_width": null,
            "object_fit": null,
            "object_position": null,
            "order": null,
            "overflow": null,
            "overflow_x": null,
            "overflow_y": null,
            "padding": null,
            "right": null,
            "top": null,
            "visibility": null,
            "width": null
          }
        },
        "42e0107cb0b64b4ea029d1caa7ba21a0": {
          "model_module": "@jupyter-widgets/controls",
          "model_name": "DescriptionStyleModel",
          "model_module_version": "1.5.0",
          "state": {
            "_model_module": "@jupyter-widgets/controls",
            "_model_module_version": "1.5.0",
            "_model_name": "DescriptionStyleModel",
            "_view_count": null,
            "_view_module": "@jupyter-widgets/base",
            "_view_module_version": "1.2.0",
            "_view_name": "StyleView",
            "description_width": ""
          }
        },
        "32ae530e842d402cac58728c66c582f3": {
          "model_module": "@jupyter-widgets/base",
          "model_name": "LayoutModel",
          "model_module_version": "1.2.0",
          "state": {
            "_model_module": "@jupyter-widgets/base",
            "_model_module_version": "1.2.0",
            "_model_name": "LayoutModel",
            "_view_count": null,
            "_view_module": "@jupyter-widgets/base",
            "_view_module_version": "1.2.0",
            "_view_name": "LayoutView",
            "align_content": null,
            "align_items": null,
            "align_self": null,
            "border": null,
            "bottom": null,
            "display": null,
            "flex": null,
            "flex_flow": null,
            "grid_area": null,
            "grid_auto_columns": null,
            "grid_auto_flow": null,
            "grid_auto_rows": null,
            "grid_column": null,
            "grid_gap": null,
            "grid_row": null,
            "grid_template_areas": null,
            "grid_template_columns": null,
            "grid_template_rows": null,
            "height": null,
            "justify_content": null,
            "justify_items": null,
            "left": null,
            "margin": null,
            "max_height": null,
            "max_width": null,
            "min_height": null,
            "min_width": null,
            "object_fit": null,
            "object_position": null,
            "order": null,
            "overflow": null,
            "overflow_x": null,
            "overflow_y": null,
            "padding": null,
            "right": null,
            "top": null,
            "visibility": null,
            "width": null
          }
        },
        "8391080184904a358fc99576c781d776": {
          "model_module": "@jupyter-widgets/controls",
          "model_name": "ProgressStyleModel",
          "model_module_version": "1.5.0",
          "state": {
            "_model_module": "@jupyter-widgets/controls",
            "_model_module_version": "1.5.0",
            "_model_name": "ProgressStyleModel",
            "_view_count": null,
            "_view_module": "@jupyter-widgets/base",
            "_view_module_version": "1.2.0",
            "_view_name": "StyleView",
            "bar_color": null,
            "description_width": ""
          }
        },
        "72131432607641709aee4a4ead3faf48": {
          "model_module": "@jupyter-widgets/base",
          "model_name": "LayoutModel",
          "model_module_version": "1.2.0",
          "state": {
            "_model_module": "@jupyter-widgets/base",
            "_model_module_version": "1.2.0",
            "_model_name": "LayoutModel",
            "_view_count": null,
            "_view_module": "@jupyter-widgets/base",
            "_view_module_version": "1.2.0",
            "_view_name": "LayoutView",
            "align_content": null,
            "align_items": null,
            "align_self": null,
            "border": null,
            "bottom": null,
            "display": null,
            "flex": null,
            "flex_flow": null,
            "grid_area": null,
            "grid_auto_columns": null,
            "grid_auto_flow": null,
            "grid_auto_rows": null,
            "grid_column": null,
            "grid_gap": null,
            "grid_row": null,
            "grid_template_areas": null,
            "grid_template_columns": null,
            "grid_template_rows": null,
            "height": null,
            "justify_content": null,
            "justify_items": null,
            "left": null,
            "margin": null,
            "max_height": null,
            "max_width": null,
            "min_height": null,
            "min_width": null,
            "object_fit": null,
            "object_position": null,
            "order": null,
            "overflow": null,
            "overflow_x": null,
            "overflow_y": null,
            "padding": null,
            "right": null,
            "top": null,
            "visibility": null,
            "width": null
          }
        },
        "94c9d54ae2bc432b9ee2011568ce4e91": {
          "model_module": "@jupyter-widgets/controls",
          "model_name": "DescriptionStyleModel",
          "model_module_version": "1.5.0",
          "state": {
            "_model_module": "@jupyter-widgets/controls",
            "_model_module_version": "1.5.0",
            "_model_name": "DescriptionStyleModel",
            "_view_count": null,
            "_view_module": "@jupyter-widgets/base",
            "_view_module_version": "1.2.0",
            "_view_name": "StyleView",
            "description_width": ""
          }
        }
      }
    }
  },
  "cells": [
    {
      "cell_type": "markdown",
      "source": [
        "Based on the work of: Abid Ali Awan\n",
        "\n",
        "An Introduction to Q-Learning: A Tutorial For Beginners\n",
        "Learn about the most popular model-free reinforcement learning algorithm with a Python tutorial.\n",
        "\n",
        "[Datacamp](https://www.datacamp.com/tutorial/introduction-q-learning-beginner-tutorial)\n",
        "\n"
      ],
      "metadata": {
        "id": "_bb7mSV0cKGW"
      }
    },
    {
      "cell_type": "code",
      "source": [
        "!pip3 install pyglet==1.5.1\n",
        "#!apt install python-opengl\n",
        "!apt-get install -y python3-opengl\n",
        "!apt install ffmpeg\n",
        "!apt install xvfb\n",
        "!pip3 install pyvirtualdisplay\n"
      ],
      "metadata": {
        "id": "mfqhRcH4O-6d",
        "colab": {
          "base_uri": "https://localhost:8080/"
        },
        "outputId": "a5746ed5-b8ba-4364-e641-b6c5482146f1"
      },
      "execution_count": 1,
      "outputs": [
        {
          "output_type": "stream",
          "name": "stdout",
          "text": [
            "Collecting pyglet==1.5.1\n",
            "  Downloading pyglet-1.5.1-py2.py3-none-any.whl (1.0 MB)\n",
            "\u001b[2K     \u001b[90m━━━━━━━━━━━━━━━━━━━━━━━━━━━━━━━━━━━━━━━━\u001b[0m \u001b[32m1.0/1.0 MB\u001b[0m \u001b[31m5.8 MB/s\u001b[0m eta \u001b[36m0:00:00\u001b[0m\n",
            "\u001b[?25hInstalling collected packages: pyglet\n",
            "Successfully installed pyglet-1.5.1\n",
            "Reading package lists... Done\n",
            "Building dependency tree... Done\n",
            "Reading state information... Done\n",
            "The following additional packages will be installed:\n",
            "  freeglut3 libglu1-mesa\n",
            "Suggested packages:\n",
            "  libgle3 python3-numpy\n",
            "The following NEW packages will be installed:\n",
            "  freeglut3 libglu1-mesa python3-opengl\n",
            "0 upgraded, 3 newly installed, 0 to remove and 45 not upgraded.\n",
            "Need to get 824 kB of archives.\n",
            "After this operation, 8,092 kB of additional disk space will be used.\n",
            "Get:1 http://archive.ubuntu.com/ubuntu jammy/universe amd64 freeglut3 amd64 2.8.1-6 [74.0 kB]\n",
            "Get:2 http://archive.ubuntu.com/ubuntu jammy/main amd64 libglu1-mesa amd64 9.0.2-1 [145 kB]\n",
            "Get:3 http://archive.ubuntu.com/ubuntu jammy/universe amd64 python3-opengl all 3.1.5+dfsg-1 [605 kB]\n",
            "Fetched 824 kB in 0s (2,539 kB/s)\n",
            "Selecting previously unselected package freeglut3:amd64.\n",
            "(Reading database ... 121925 files and directories currently installed.)\n",
            "Preparing to unpack .../freeglut3_2.8.1-6_amd64.deb ...\n",
            "Unpacking freeglut3:amd64 (2.8.1-6) ...\n",
            "Selecting previously unselected package libglu1-mesa:amd64.\n",
            "Preparing to unpack .../libglu1-mesa_9.0.2-1_amd64.deb ...\n",
            "Unpacking libglu1-mesa:amd64 (9.0.2-1) ...\n",
            "Selecting previously unselected package python3-opengl.\n",
            "Preparing to unpack .../python3-opengl_3.1.5+dfsg-1_all.deb ...\n",
            "Unpacking python3-opengl (3.1.5+dfsg-1) ...\n",
            "Setting up freeglut3:amd64 (2.8.1-6) ...\n",
            "Setting up libglu1-mesa:amd64 (9.0.2-1) ...\n",
            "Setting up python3-opengl (3.1.5+dfsg-1) ...\n",
            "Processing triggers for libc-bin (2.35-0ubuntu3.4) ...\n",
            "/sbin/ldconfig.real: /usr/local/lib/libtbbbind.so.3 is not a symbolic link\n",
            "\n",
            "/sbin/ldconfig.real: /usr/local/lib/libtbbmalloc_proxy.so.2 is not a symbolic link\n",
            "\n",
            "/sbin/ldconfig.real: /usr/local/lib/libtbbmalloc.so.2 is not a symbolic link\n",
            "\n",
            "/sbin/ldconfig.real: /usr/local/lib/libtbbbind_2_5.so.3 is not a symbolic link\n",
            "\n",
            "/sbin/ldconfig.real: /usr/local/lib/libtbb.so.12 is not a symbolic link\n",
            "\n",
            "/sbin/ldconfig.real: /usr/local/lib/libtbbbind_2_0.so.3 is not a symbolic link\n",
            "\n",
            "Reading package lists... Done\n",
            "Building dependency tree... Done\n",
            "Reading state information... Done\n",
            "ffmpeg is already the newest version (7:4.4.2-0ubuntu0.22.04.1).\n",
            "0 upgraded, 0 newly installed, 0 to remove and 45 not upgraded.\n",
            "Reading package lists... Done\n",
            "Building dependency tree... Done\n",
            "Reading state information... Done\n",
            "The following additional packages will be installed:\n",
            "  libfontenc1 libxfont2 libxkbfile1 x11-xkb-utils xfonts-base xfonts-encodings xfonts-utils\n",
            "  xserver-common\n",
            "The following NEW packages will be installed:\n",
            "  libfontenc1 libxfont2 libxkbfile1 x11-xkb-utils xfonts-base xfonts-encodings xfonts-utils\n",
            "  xserver-common xvfb\n",
            "0 upgraded, 9 newly installed, 0 to remove and 45 not upgraded.\n",
            "Need to get 7,813 kB of archives.\n",
            "After this operation, 11.9 MB of additional disk space will be used.\n",
            "Get:1 http://archive.ubuntu.com/ubuntu jammy/main amd64 libfontenc1 amd64 1:1.1.4-1build3 [14.7 kB]\n",
            "Get:2 http://archive.ubuntu.com/ubuntu jammy/main amd64 libxfont2 amd64 1:2.0.5-1build1 [94.5 kB]\n",
            "Get:3 http://archive.ubuntu.com/ubuntu jammy/main amd64 libxkbfile1 amd64 1:1.1.0-1build3 [71.8 kB]\n",
            "Get:4 http://archive.ubuntu.com/ubuntu jammy/main amd64 x11-xkb-utils amd64 7.7+5build4 [172 kB]\n",
            "Get:5 http://archive.ubuntu.com/ubuntu jammy/main amd64 xfonts-encodings all 1:1.0.5-0ubuntu2 [578 kB]\n",
            "Get:6 http://archive.ubuntu.com/ubuntu jammy/main amd64 xfonts-utils amd64 1:7.7+6build2 [94.6 kB]\n",
            "Get:7 http://archive.ubuntu.com/ubuntu jammy/main amd64 xfonts-base all 1:1.0.5 [5,896 kB]\n",
            "Get:8 http://archive.ubuntu.com/ubuntu jammy-updates/main amd64 xserver-common all 2:21.1.4-2ubuntu1.7~22.04.10 [28.5 kB]\n",
            "Get:9 http://archive.ubuntu.com/ubuntu jammy-updates/universe amd64 xvfb amd64 2:21.1.4-2ubuntu1.7~22.04.10 [863 kB]\n",
            "Fetched 7,813 kB in 0s (19.3 MB/s)\n",
            "Selecting previously unselected package libfontenc1:amd64.\n",
            "(Reading database ... 125009 files and directories currently installed.)\n",
            "Preparing to unpack .../0-libfontenc1_1%3a1.1.4-1build3_amd64.deb ...\n",
            "Unpacking libfontenc1:amd64 (1:1.1.4-1build3) ...\n",
            "Selecting previously unselected package libxfont2:amd64.\n",
            "Preparing to unpack .../1-libxfont2_1%3a2.0.5-1build1_amd64.deb ...\n",
            "Unpacking libxfont2:amd64 (1:2.0.5-1build1) ...\n",
            "Selecting previously unselected package libxkbfile1:amd64.\n",
            "Preparing to unpack .../2-libxkbfile1_1%3a1.1.0-1build3_amd64.deb ...\n",
            "Unpacking libxkbfile1:amd64 (1:1.1.0-1build3) ...\n",
            "Selecting previously unselected package x11-xkb-utils.\n",
            "Preparing to unpack .../3-x11-xkb-utils_7.7+5build4_amd64.deb ...\n",
            "Unpacking x11-xkb-utils (7.7+5build4) ...\n",
            "Selecting previously unselected package xfonts-encodings.\n",
            "Preparing to unpack .../4-xfonts-encodings_1%3a1.0.5-0ubuntu2_all.deb ...\n",
            "Unpacking xfonts-encodings (1:1.0.5-0ubuntu2) ...\n",
            "Selecting previously unselected package xfonts-utils.\n",
            "Preparing to unpack .../5-xfonts-utils_1%3a7.7+6build2_amd64.deb ...\n",
            "Unpacking xfonts-utils (1:7.7+6build2) ...\n",
            "Selecting previously unselected package xfonts-base.\n",
            "Preparing to unpack .../6-xfonts-base_1%3a1.0.5_all.deb ...\n",
            "Unpacking xfonts-base (1:1.0.5) ...\n",
            "Selecting previously unselected package xserver-common.\n",
            "Preparing to unpack .../7-xserver-common_2%3a21.1.4-2ubuntu1.7~22.04.10_all.deb ...\n",
            "Unpacking xserver-common (2:21.1.4-2ubuntu1.7~22.04.10) ...\n",
            "Selecting previously unselected package xvfb.\n",
            "Preparing to unpack .../8-xvfb_2%3a21.1.4-2ubuntu1.7~22.04.10_amd64.deb ...\n",
            "Unpacking xvfb (2:21.1.4-2ubuntu1.7~22.04.10) ...\n",
            "Setting up libfontenc1:amd64 (1:1.1.4-1build3) ...\n",
            "Setting up xfonts-encodings (1:1.0.5-0ubuntu2) ...\n",
            "Setting up libxkbfile1:amd64 (1:1.1.0-1build3) ...\n",
            "Setting up libxfont2:amd64 (1:2.0.5-1build1) ...\n",
            "Setting up x11-xkb-utils (7.7+5build4) ...\n",
            "Setting up xfonts-utils (1:7.7+6build2) ...\n",
            "Setting up xfonts-base (1:1.0.5) ...\n",
            "Setting up xserver-common (2:21.1.4-2ubuntu1.7~22.04.10) ...\n",
            "Setting up xvfb (2:21.1.4-2ubuntu1.7~22.04.10) ...\n",
            "Processing triggers for man-db (2.10.2-1) ...\n",
            "Processing triggers for fontconfig (2.13.1-4.2ubuntu5) ...\n",
            "Processing triggers for libc-bin (2.35-0ubuntu3.4) ...\n",
            "/sbin/ldconfig.real: /usr/local/lib/libtbbbind.so.3 is not a symbolic link\n",
            "\n",
            "/sbin/ldconfig.real: /usr/local/lib/libtbbmalloc_proxy.so.2 is not a symbolic link\n",
            "\n",
            "/sbin/ldconfig.real: /usr/local/lib/libtbbmalloc.so.2 is not a symbolic link\n",
            "\n",
            "/sbin/ldconfig.real: /usr/local/lib/libtbbbind_2_5.so.3 is not a symbolic link\n",
            "\n",
            "/sbin/ldconfig.real: /usr/local/lib/libtbb.so.12 is not a symbolic link\n",
            "\n",
            "/sbin/ldconfig.real: /usr/local/lib/libtbbbind_2_0.so.3 is not a symbolic link\n",
            "\n",
            "Collecting pyvirtualdisplay\n",
            "  Downloading PyVirtualDisplay-3.0-py3-none-any.whl (15 kB)\n",
            "Installing collected packages: pyvirtualdisplay\n",
            "Successfully installed pyvirtualdisplay-3.0\n"
          ]
        }
      ]
    },
    {
      "cell_type": "markdown",
      "source": [
        "**Setup a Virtual Display**\n",
        "\n",
        "\n",
        "*   We will first install all the dependencies to generate a replay video(Gif).\n",
        "*   We will need a virtual screen (pyvirtualdisplay) to render the environment and record the frames.\n"
      ],
      "metadata": {
        "id": "MjQGbk0vSws0"
      }
    },
    {
      "cell_type": "code",
      "execution_count": 2,
      "metadata": {
        "id": "IlzAwMt1OtkE",
        "colab": {
          "base_uri": "https://localhost:8080/"
        },
        "outputId": "2a050cb7-613f-40e0-e592-befb7d8e302b"
      },
      "outputs": [
        {
          "output_type": "execute_result",
          "data": {
            "text/plain": [
              "<pyvirtualdisplay.display.Display at 0x7e0bc55967d0>"
            ]
          },
          "metadata": {},
          "execution_count": 2
        }
      ],
      "source": [
        "\n",
        "# Virtual display\n",
        "from pyvirtualdisplay import Display\n",
        "\n",
        "virtual_display = Display(visible=0, size=(1400, 900))\n",
        "virtual_display.start()"
      ]
    },
    {
      "cell_type": "markdown",
      "source": [
        "**Install dependencies**\n",
        "\n",
        "We will now install dependencies that will help us create, run, and evaluate the training loop.\n",
        "\n",
        "*   gym: Used to initialize the FrozenLake-v1 environment.\n",
        "*   pygame: Used for the FrozenLake-v1 UI.\n",
        "*   numPy: Used for creating and handling the Q-table.\n",
        "\n",
        "\n",
        "\n",
        "\n"
      ],
      "metadata": {
        "id": "6SBrSObETcvb"
      }
    },
    {
      "cell_type": "code",
      "source": [
        "!pip install gym==0.24\n",
        "!pip install pygame\n",
        "!pip install numpy\n",
        "\n",
        "!pip install imageio imageio_ffmpeg"
      ],
      "metadata": {
        "id": "1lr07KBSP33R",
        "colab": {
          "base_uri": "https://localhost:8080/"
        },
        "outputId": "520bb9c5-29bc-4a30-d642-64104932fabd"
      },
      "execution_count": 3,
      "outputs": [
        {
          "output_type": "stream",
          "name": "stdout",
          "text": [
            "Collecting gym==0.24\n",
            "  Downloading gym-0.24.0.tar.gz (694 kB)\n",
            "\u001b[2K     \u001b[90m━━━━━━━━━━━━━━━━━━━━━━━━━━━━━━━━━━━━━━━━\u001b[0m \u001b[32m694.4/694.4 kB\u001b[0m \u001b[31m5.2 MB/s\u001b[0m eta \u001b[36m0:00:00\u001b[0m\n",
            "\u001b[?25h  Installing build dependencies ... \u001b[?25l\u001b[?25hdone\n",
            "  Getting requirements to build wheel ... \u001b[?25l\u001b[?25hdone\n",
            "  Preparing metadata (pyproject.toml) ... \u001b[?25l\u001b[?25hdone\n",
            "Requirement already satisfied: numpy>=1.18.0 in /usr/local/lib/python3.10/dist-packages (from gym==0.24) (1.25.2)\n",
            "Requirement already satisfied: cloudpickle>=1.2.0 in /usr/local/lib/python3.10/dist-packages (from gym==0.24) (2.2.1)\n",
            "Requirement already satisfied: gym-notices>=0.0.4 in /usr/local/lib/python3.10/dist-packages (from gym==0.24) (0.0.8)\n",
            "Building wheels for collected packages: gym\n",
            "  Building wheel for gym (pyproject.toml) ... \u001b[?25l\u001b[?25hdone\n",
            "  Created wheel for gym: filename=gym-0.24.0-py3-none-any.whl size=790676 sha256=0417939f53519921005692587561bb19c3fb887c6a25e7e123e50fd29a0a1019\n",
            "  Stored in directory: /root/.cache/pip/wheels/2f/a1/b1/5f4110c8943b36e6cdfcc0e5768481639fa042b3c8357e82cc\n",
            "Successfully built gym\n",
            "Installing collected packages: gym\n",
            "  Attempting uninstall: gym\n",
            "    Found existing installation: gym 0.25.2\n",
            "    Uninstalling gym-0.25.2:\n",
            "      Successfully uninstalled gym-0.25.2\n",
            "Successfully installed gym-0.24.0\n",
            "Requirement already satisfied: pygame in /usr/local/lib/python3.10/dist-packages (2.5.2)\n",
            "Requirement already satisfied: numpy in /usr/local/lib/python3.10/dist-packages (1.25.2)\n",
            "Requirement already satisfied: imageio in /usr/local/lib/python3.10/dist-packages (2.31.6)\n",
            "Requirement already satisfied: imageio_ffmpeg in /usr/local/lib/python3.10/dist-packages (0.5.1)\n",
            "Requirement already satisfied: numpy in /usr/local/lib/python3.10/dist-packages (from imageio) (1.25.2)\n",
            "Requirement already satisfied: pillow<10.1.0,>=8.3.2 in /usr/local/lib/python3.10/dist-packages (from imageio) (9.4.0)\n",
            "Requirement already satisfied: setuptools in /usr/local/lib/python3.10/dist-packages (from imageio_ffmpeg) (67.7.2)\n"
          ]
        }
      ]
    },
    {
      "cell_type": "markdown",
      "source": [
        "**Import the packages**\n",
        "\n",
        "We will now import the required libraries.\n",
        "\n",
        "* Imageio is used for creating the animation.\n",
        "\n",
        "* tqdm is used for progress bars."
      ],
      "metadata": {
        "id": "9ritjVdDUIIr"
      }
    },
    {
      "cell_type": "code",
      "source": [
        "import numpy as np\n",
        "import gym\n",
        "import random\n",
        "import imageio\n",
        "from tqdm.notebook import trange"
      ],
      "metadata": {
        "id": "t8sT1lK2QKCD"
      },
      "execution_count": 271,
      "outputs": []
    },
    {
      "cell_type": "markdown",
      "source": [
        "**Frozen Lake Gym Environment **\n",
        "\n",
        "We are going to create a non-slippery 4x4 environment using the Frozen Lake gym library.\n",
        "\n",
        "* There are two grid versions, “4x4” and “8x8”.\n",
        "* If the `is_slippery=True`, the agent may not move in the intended direction   due to the slippery nature of the frozen lake.\n",
        "\n",
        "Discrete: describes a discrete space where {0, 1, …, n-1} are the possible values our observation or action can take. Values can be shifted to {a, a+1, …, a+n-1} using an optional argument.\n",
        "\n",
        "After initializing the environment, we will do an environmental analysis."
      ],
      "metadata": {
        "id": "73OfT-UtUroz"
      }
    },
    {
      "cell_type": "markdown",
      "source": [
        "There are 16(or 64) unique spaces in the environment displayed at random positions."
      ],
      "metadata": {
        "id": "8L1msL7lXbjU"
      }
    },
    {
      "cell_type": "code",
      "source": [
        "env = gym.make(\"FrozenLake-v1\",map_name=\"8x8\",is_slippery=False)\n",
        "\n",
        "print(\"Observation Space\", env.observation_space)\n",
        "print(\"Sample observation\", env.observation_space.sample()) # display a random observation"
      ],
      "metadata": {
        "colab": {
          "base_uri": "https://localhost:8080/"
        },
        "id": "0kWnnjU0QW1k",
        "outputId": "8e140880-4e1c-4183-ba65-f885a474f37a"
      },
      "execution_count": 272,
      "outputs": [
        {
          "output_type": "stream",
          "name": "stdout",
          "text": [
            "Observation Space Discrete(64)\n",
            "Sample observation 54\n"
          ]
        }
      ]
    },
    {
      "cell_type": "markdown",
      "source": [
        "**The action space:**\n",
        "\n",
        "0: move left\n",
        "\n",
        "1: move down\n",
        "\n",
        "2: move right\n",
        "\n",
        "3: move up\n",
        "\n",
        "**Reward function:**\n",
        "\n",
        "Reaching the goal: +1\n",
        "\n",
        "Falling into the hole: 0\n",
        "\n",
        "Staying on the frozen lake: 0\n",
        "\n"
      ],
      "metadata": {
        "id": "n6xe9qnSQzMH"
      }
    },
    {
      "cell_type": "code",
      "source": [
        "print(\"Action Space Shape\", env.action_space.n)\n",
        "print(\"Action Space Sample\", env.action_space.sample())"
      ],
      "metadata": {
        "colab": {
          "base_uri": "https://localhost:8080/"
        },
        "id": "nNj3X1BbRH5K",
        "outputId": "e6909703-3691-47da-fa44-eeb543b3316b"
      },
      "execution_count": 273,
      "outputs": [
        {
          "output_type": "stream",
          "name": "stdout",
          "text": [
            "Action Space Shape 4\n",
            "Action Space Sample 0\n"
          ]
        }
      ]
    },
    {
      "cell_type": "markdown",
      "source": [
        "**Create and Initialize the Q-table**\n",
        "\n",
        "The Q-Table has columns as actions, and rows as states. We can use OpenAI Gym to find action space and state space. We will then use this information to create the Q-Table."
      ],
      "metadata": {
        "id": "_7nI2Sc6YBH2"
      }
    },
    {
      "cell_type": "code",
      "source": [
        "state_space = env.observation_space.n\n",
        "print(\"There are \", state_space, \" possible states\")\n",
        "\n",
        "action_space = env.action_space.n\n",
        "print(\"There are \", action_space, \" possible actions\")"
      ],
      "metadata": {
        "colab": {
          "base_uri": "https://localhost:8080/"
        },
        "id": "XPOveuVKRUd_",
        "outputId": "3bd1f10c-50a1-4f3d-9a7a-d3032760f0c9"
      },
      "execution_count": 274,
      "outputs": [
        {
          "output_type": "stream",
          "name": "stdout",
          "text": [
            "There are  64  possible states\n",
            "There are  4  possible actions\n"
          ]
        }
      ]
    },
    {
      "cell_type": "markdown",
      "source": [
        "For initializing the Q-Table, we will create a Numpy array of state_space and actions space. We will create a 64 X 4 array."
      ],
      "metadata": {
        "id": "PzRWCgfUYdTY"
      }
    },
    {
      "cell_type": "code",
      "source": [
        "def initialize_q_table(state_space, action_space):\n",
        "  Qtable = np.zeros((state_space, action_space))\n",
        "  return Qtable\n",
        "\n",
        "Qtable_frozenlake = initialize_q_table(state_space, action_space)"
      ],
      "metadata": {
        "id": "vuqMPZR5RbAI"
      },
      "execution_count": 275,
      "outputs": []
    },
    {
      "cell_type": "markdown",
      "source": [
        "**Epsilon-greedy policy**\n",
        "\n",
        "In the previous section, we have learned about the epsilon greedy strategy that handles exploration and exploitation tradeoffs. With a Probability of 1 - ɛ, we do exploitation, and with the probability ɛ, we do exploration.\n",
        "\n",
        "In the epsilon_greedy_policy we will:\n",
        "\n",
        "1. Generate the random number between 0 to 1.\n",
        "2. If the random number is greater than epsilon, we will do **exploitation**. It means that the agent will take the action with the highest value given a state.\n",
        "3. Else, we will do **exploration** (Taking random action)."
      ],
      "metadata": {
        "id": "sAizahgTYo26"
      }
    },
    {
      "cell_type": "code",
      "source": [
        "def epsilon_greedy_policy(Qtable, state, epsilon):\n",
        "  random_int = random.uniform(0,1)\n",
        "  if random_int > epsilon:\n",
        "    action = np.argmax(Qtable[state])\n",
        "  else:\n",
        "    action = env.action_space.sample()\n",
        "  return action"
      ],
      "metadata": {
        "id": "an_DPzZjRfNw"
      },
      "execution_count": 276,
      "outputs": []
    },
    {
      "cell_type": "markdown",
      "source": [
        "## **Define the greedy policy**\n",
        "\n",
        "As we now know that Q-learning is an off-policy algorithm which means that the policy of taking action and updating function is different.\n",
        "\n",
        "In this example, the Epsilon Greedy policy is acting policy, and the Greedy policy is updating policy.\n",
        "\n",
        "The Greedy policy will also be the final policy when the agent is trained. It is used to select the highest state and action value from the Q-Table."
      ],
      "metadata": {
        "id": "J8uhP8QqZm7-"
      }
    },
    {
      "cell_type": "code",
      "source": [
        "def greedy_policy(Qtable, state):\n",
        "  action = np.argmax(Qtable[state])\n",
        "  return action"
      ],
      "metadata": {
        "id": "2mlZHB2ZRgtT"
      },
      "execution_count": 277,
      "outputs": []
    },
    {
      "cell_type": "markdown",
      "source": [
        "## **Model hyperparameters**\n",
        "\n",
        "These hyperparameters are used in the training loop, and fine-tuning them will give you better results.\n",
        "\n",
        "The Agent needs to explore enough state space to learn good value approximation; we need to have progressive decay of epsilon. If the decay rate is high, the agent might get stuck as it has not explored enough state space.\n",
        "\n",
        "* There are 10,000 training and 100 evaluation episodes.\n",
        "* The learning rate is 0.7.\n",
        "* We are using \"FrozenLake-v1\" as an environment with 99 maximum steps per episode.\n",
        "* The gamma (discount rate) is 0.95.\n",
        "* eval_seed: evaluation seed for the environment.\n",
        "* The exploration epsilon probability at the start is 1.0, and the minimum probability will be 0.05.\n",
        "* The exponential decay rate for epsilon probability is 0.0005."
      ],
      "metadata": {
        "id": "a-EHT7qgaDsG"
      }
    },
    {
      "cell_type": "code",
      "source": [
        "# Training parameters\n",
        "n_training_episodes = 20000\n",
        "learning_rate = 0.8\n",
        "\n",
        "# Evaluation parameters\n",
        "n_eval_episodes = 100\n",
        "\n",
        "# Environment parameters\n",
        "env_id = \"FrozenLake-v1\"\n",
        "max_steps = 99\n",
        "gamma = 0.95\n",
        "eval_seed = []\n",
        "\n",
        "# Exploration parameters\n",
        "max_epsilon = 1.0  # Exploration probability at start\n",
        "# min_epsilon = 0.05\n",
        "min_epsilon = 0.05 # Minimum exploration probability\n",
        "decay_rate = 0.00001\n",
        "\n"
      ],
      "metadata": {
        "id": "-Hz-xp1fRnhN"
      },
      "execution_count": 278,
      "outputs": []
    },
    {
      "cell_type": "markdown",
      "source": [
        "Model Training\n",
        "\n",
        "In the training loop, we will:\n",
        "\n",
        "1. Create a loop for training episodes.\n",
        "2. We will first reduce epsilon. As we need less and less exploration and more exploitation with every episode.\n",
        "3. Reset the environment.\n",
        "4. Create a nested loop for the maximum steps.\n",
        "5. Choose the action using the epsilon greedy policy.\n",
        "6. Take action (At) and observe the expected reward(Rt+1) and state(St+1).\n",
        "7. Take the action (a) and observe the outcome state(s') and reward (r).\n",
        "8. Update the Q-function using the formula.\n",
        "9. If `done= True`, finish the episode and break the loop.\n",
        "10. Finally, change the current state to a new state.\n",
        "11. After completing all of the training episodes, the function will return the updated Q-Table."
      ],
      "metadata": {
        "id": "B6LRiV8ibsDR"
      }
    },
    {
      "cell_type": "code",
      "source": [
        "def train(n_training_episodes, min_epsilon, max_epsilon, decay_rate, env, max_steps, Qtable):\n",
        "  for episode in trange(n_training_episodes):\n",
        "\n",
        "    epsilon = min_epsilon + (max_epsilon - min_epsilon)*np.exp(-decay_rate*episode)\n",
        "    # Reset the environment\n",
        "    state = env.reset()\n",
        "    step = 0\n",
        "    done = False\n",
        "\n",
        "    # repeat\n",
        "    for step in range(max_steps):\n",
        "\n",
        "      action = epsilon_greedy_policy(Qtable, state, epsilon)\n",
        "\n",
        "\n",
        "      new_state, reward, done, info = env.step(action)\n",
        "\n",
        "\n",
        "      Qtable[state][action] = Qtable[state][action] + learning_rate * (reward + gamma * np.max(Qtable[new_state]) - Qtable[state][action])\n",
        "\n",
        "      # If done, finish the episode\n",
        "      if done:\n",
        "        break\n",
        "\n",
        "      # Our state is the new state\n",
        "      state = new_state\n",
        "  return Qtable"
      ],
      "metadata": {
        "id": "Xj99X8wkRpFA"
      },
      "execution_count": 279,
      "outputs": []
    },
    {
      "cell_type": "code",
      "source": [
        "Qtable_frozenlake = train(n_training_episodes, min_epsilon, max_epsilon, decay_rate, env, max_steps, Qtable_frozenlake)"
      ],
      "metadata": {
        "colab": {
          "base_uri": "https://localhost:8080/",
          "height": 69,
          "referenced_widgets": [
            "834f60c8b3a540eab718f044788ae4ac",
            "c364fda5eb1e4677a178f91c368cb72c",
            "6e8e4d75b32f4ab0a5499ccf6279d084",
            "033713c6b8a346d7881fdf36169ad192",
            "5d5f46e1f31e4a78bf44f9790a709fde",
            "f894b210cb3d4780a6acb113180ee430",
            "42e0107cb0b64b4ea029d1caa7ba21a0",
            "32ae530e842d402cac58728c66c582f3",
            "8391080184904a358fc99576c781d776",
            "72131432607641709aee4a4ead3faf48",
            "94c9d54ae2bc432b9ee2011568ce4e91"
          ]
        },
        "id": "BDQzI2w9RwlA",
        "outputId": "1b5b28ab-6611-4436-97d0-c996e9da4d7a"
      },
      "execution_count": 280,
      "outputs": [
        {
          "output_type": "display_data",
          "data": {
            "text/plain": [
              "  0%|          | 0/20000 [00:00<?, ?it/s]"
            ],
            "application/vnd.jupyter.widget-view+json": {
              "version_major": 2,
              "version_minor": 0,
              "model_id": "834f60c8b3a540eab718f044788ae4ac"
            }
          },
          "metadata": {}
        }
      ]
    },
    {
      "cell_type": "markdown",
      "source": [
        "As we can see, the trained Q-Table has values, and the agent will now use these values to navigate the environment and achieve the goal.  "
      ],
      "metadata": {
        "id": "J7mcM7ZIddF3"
      }
    },
    {
      "cell_type": "code",
      "source": [
        "Qtable_frozenlake"
      ],
      "metadata": {
        "colab": {
          "base_uri": "https://localhost:8080/"
        },
        "id": "mGQwJu0cR0sx",
        "outputId": "9e2ccd46-fd34-40a2-d358-0eda76bae171"
      },
      "execution_count": 281,
      "outputs": [
        {
          "output_type": "execute_result",
          "data": {
            "text/plain": [
              "array([[0.48767498, 0.51334208, 0.51334208, 0.48767498],\n",
              "       [0.48767498, 0.54036009, 0.54036009, 0.51334208],\n",
              "       [0.51334208, 0.56880009, 0.56880009, 0.54036009],\n",
              "       [0.54036009, 0.59873694, 0.59873694, 0.56880009],\n",
              "       [0.56880009, 0.63024941, 0.63024941, 0.59873694],\n",
              "       [0.59873694, 0.66342043, 0.66342043, 0.63024941],\n",
              "       [0.63024941, 0.6983373 , 0.6983373 , 0.66342043],\n",
              "       [0.66342043, 0.73509189, 0.6983373 , 0.6983373 ],\n",
              "       [0.51334208, 0.54036009, 0.54036009, 0.48767498],\n",
              "       [0.51334208, 0.56880009, 0.56880009, 0.51334208],\n",
              "       [0.54036009, 0.59873694, 0.59873694, 0.54036009],\n",
              "       [0.56880009, 0.        , 0.63024941, 0.56880009],\n",
              "       [0.59873694, 0.66342043, 0.66342043, 0.59873694],\n",
              "       [0.63024941, 0.6983373 , 0.6983373 , 0.63024941],\n",
              "       [0.66342043, 0.73509189, 0.73509189, 0.66342043],\n",
              "       [0.6983373 , 0.77378094, 0.73509189, 0.6983373 ],\n",
              "       [0.54036009, 0.56880009, 0.56880009, 0.51334208],\n",
              "       [0.54036009, 0.59873694, 0.59873694, 0.54036009],\n",
              "       [0.56880009, 0.63024941, 0.        , 0.56880009],\n",
              "       [0.        , 0.        , 0.        , 0.        ],\n",
              "       [0.        , 0.6983373 , 0.6983373 , 0.63024941],\n",
              "       [0.66342043, 0.        , 0.73509189, 0.66342043],\n",
              "       [0.6983373 , 0.77378094, 0.77378094, 0.6983373 ],\n",
              "       [0.73509189, 0.81450625, 0.77378094, 0.73509189],\n",
              "       [0.56880009, 0.54036009, 0.59873694, 0.54036009],\n",
              "       [0.56880009, 0.56880009, 0.63024941, 0.56880009],\n",
              "       [0.59873694, 0.59873694, 0.66342043, 0.59873694],\n",
              "       [0.63024941, 0.        , 0.6983373 , 0.        ],\n",
              "       [0.66342043, 0.73509189, 0.        , 0.66342043],\n",
              "       [0.        , 0.        , 0.        , 0.        ],\n",
              "       [0.        , 0.81450625, 0.81450625, 0.73509189],\n",
              "       [0.77378094, 0.857375  , 0.81450625, 0.77378094],\n",
              "       [0.54036009, 0.51334208, 0.56880009, 0.56880009],\n",
              "       [0.54036009, 0.        , 0.59873694, 0.59873694],\n",
              "       [0.56880009, 0.        , 0.        , 0.63024941],\n",
              "       [0.        , 0.        , 0.        , 0.        ],\n",
              "       [0.        , 0.77377253, 0.77378094, 0.6983373 ],\n",
              "       [0.73509189, 0.8144974 , 0.81450625, 0.        ],\n",
              "       [0.77378094, 0.        , 0.857375  , 0.77378094],\n",
              "       [0.81450625, 0.9025    , 0.857375  , 0.81450625],\n",
              "       [0.51334208, 0.48767498, 0.        , 0.54036009],\n",
              "       [0.        , 0.        , 0.        , 0.        ],\n",
              "       [0.        , 0.        , 0.        , 0.        ],\n",
              "       [0.        , 0.69684614, 0.77302652, 0.        ],\n",
              "       [0.73437515, 0.        , 0.8144974 , 0.73509189],\n",
              "       [0.77377113, 0.85736569, 0.        , 0.77378094],\n",
              "       [0.        , 0.        , 0.        , 0.        ],\n",
              "       [0.        , 0.95      , 0.9025    , 0.857375  ],\n",
              "       [0.48767498, 0.51334181, 0.        , 0.51334208],\n",
              "       [0.        , 0.        , 0.        , 0.        ],\n",
              "       [0.        , 0.56868798, 0.63024908, 0.        ],\n",
              "       [0.59873619, 0.        , 0.        , 0.73424649],\n",
              "       [0.        , 0.        , 0.        , 0.        ],\n",
              "       [0.        , 0.90249605, 0.        , 0.81132085],\n",
              "       [0.        , 0.        , 0.        , 0.        ],\n",
              "       [0.        , 1.        , 0.95      , 0.9025    ],\n",
              "       [0.51334179, 0.5133418 , 0.5403598 , 0.48767498],\n",
              "       [0.51334141, 0.54035977, 0.56879979, 0.        ],\n",
              "       [0.54031949, 0.56879978, 0.        , 0.59873663],\n",
              "       [0.        , 0.        , 0.        , 0.        ],\n",
              "       [0.        , 0.79002532, 0.89513103, 0.        ],\n",
              "       [0.8470827 , 0.90097467, 0.94999738, 0.8278562 ],\n",
              "       [0.86616356, 0.94847222, 0.99999949, 0.        ],\n",
              "       [0.        , 0.        , 0.        , 0.        ]])"
            ]
          },
          "metadata": {},
          "execution_count": 281
        }
      ]
    },
    {
      "cell_type": "markdown",
      "source": [
        "## **Evaluation**\n",
        "\n",
        "The evaluate_agent runs for `n_eval_episodes` episodes and returns the mean and standard deviation of the reward.\n",
        "\n",
        "1. In the loop, we will first check if there is an evaluation seed. If not, then we will reset the environment without seed.\n",
        "2. The nested loop will run to max_steps.\n",
        "3. The agent will take the action that has the maximum expected future reward in a given state using Q-Table.\n",
        "4. Calculate the reward.\n",
        "5. Change the state.\n",
        "6. If done (agent falls into the hole or goal has been achieved), break the loop.\n",
        "7. Append the results.\n",
        "8. In the end, we will use these results to calculate the mean and standard deviation."
      ],
      "metadata": {
        "id": "OOM71xR_dyOG"
      }
    },
    {
      "cell_type": "code",
      "source": [
        "def evaluate_agent(env, max_steps, n_eval_episodes, Q, seed):\n",
        "\n",
        "  episode_rewards = []\n",
        "  for episode in range(n_eval_episodes):\n",
        "    if seed:\n",
        "      state = env.reset(seed=seed[episode])\n",
        "    else:\n",
        "      state = env.reset()\n",
        "    step = 0\n",
        "    done = False\n",
        "    total_rewards_ep = 0\n",
        "\n",
        "    for step in range(max_steps):\n",
        "      # Take the action (index) that have the maximum reward\n",
        "      action = np.argmax(Q[state][:])\n",
        "      new_state, reward, done, info = env.step(action)\n",
        "      total_rewards_ep += reward\n",
        "\n",
        "      if done:\n",
        "        break\n",
        "      state = new_state\n",
        "    episode_rewards.append(total_rewards_ep)\n",
        "  mean_reward = np.mean(episode_rewards)\n",
        "  std_reward = np.std(episode_rewards)\n",
        "\n",
        "  return mean_reward, std_reward"
      ],
      "metadata": {
        "id": "F4I8Cu1oSEob"
      },
      "execution_count": 267,
      "outputs": []
    },
    {
      "cell_type": "markdown",
      "source": [
        "As you can see, we got the perfect score with zero standard deviation. It means that our agent has reached the goal in all 100 episodes."
      ],
      "metadata": {
        "id": "AI952ru5eWgn"
      }
    },
    {
      "cell_type": "code",
      "source": [
        "# Evaluate our Agent\n",
        "mean_reward, std_reward = evaluate_agent(env, max_steps, n_eval_episodes, Qtable_frozenlake, eval_seed)\n",
        "print(f\"Mean_reward={mean_reward:.2f} +/- {std_reward:.2f}\")"
      ],
      "metadata": {
        "colab": {
          "base_uri": "https://localhost:8080/"
        },
        "id": "_pLfU5nqSHiJ",
        "outputId": "3668cdd5-db8b-4b27-d16f-f3f7af2ea6f9"
      },
      "execution_count": 268,
      "outputs": [
        {
          "output_type": "stream",
          "name": "stdout",
          "text": [
            "Mean_reward=1.00 +/- 0.00\n"
          ]
        }
      ]
    },
    {
      "cell_type": "markdown",
      "source": [
        "## **Visualizing the result**\n",
        "\n",
        "Till now, we have been playing with numbers, and to give the demo, we need to create an animated Gif of the agent from the start till it reaches the goal.\n",
        "\n",
        "1. We will first create the state by resetting the environment with a random integer 0-500.\n",
        "2. Render the environment using rdb_array to create an image array.\n",
        "3. Then append the `img` to the `images` array.\n",
        "4. In the loop, we will take the step using the Q-Table and render the image for every step.\n",
        "5. In the end, we will use this array and imageio to create a Gif of one frame per second."
      ],
      "metadata": {
        "id": "oLBjanK_egNz"
      }
    },
    {
      "cell_type": "code",
      "source": [
        "def record_video(env, Qtable, out_directory, fps=1):\n",
        "  images = []\n",
        "  done = False\n",
        "  state = env.reset(seed=random.randint(0,500))\n",
        "  img = env.render(mode='rgb_array')\n",
        "  images.append(img)\n",
        "  while not done:\n",
        "    # Take the action (index) that have the maximum expected future reward given that state\n",
        "    action = np.argmax(Qtable[state][:])\n",
        "    state, reward, done, info = env.step(action) # We directly put next_state = state for recording logic\n",
        "    img = env.render(mode='rgb_array')\n",
        "    images.append(img)\n",
        "  imageio.mimsave(out_directory, [np.array(img) for i, img in enumerate(images)], fps=fps)"
      ],
      "metadata": {
        "id": "gyV-p1FzSR3t"
      },
      "execution_count": 269,
      "outputs": []
    },
    {
      "cell_type": "markdown",
      "source": [
        "If you are in a Jupyter notebook, you can display the Gif using the `IPython.display` Image function."
      ],
      "metadata": {
        "id": "ZtSHhXESfCeM"
      }
    },
    {
      "cell_type": "code",
      "source": [
        "video_path=\"/content/replay.gif\"\n",
        "video_fps=1\n",
        "record_video(env, Qtable_frozenlake, video_path, video_fps)\n",
        "\n",
        "from IPython.display import Image\n",
        "Image('./replay.gif')"
      ],
      "metadata": {
        "colab": {
          "base_uri": "https://localhost:8080/",
          "height": 583
        },
        "id": "PjJk3cllSaOz",
        "outputId": "aa294c11-2538-4705-96ee-91c2b11d3ce4"
      },
      "execution_count": 270,
      "outputs": [
        {
          "output_type": "stream",
          "name": "stderr",
          "text": [
            "/usr/local/lib/python3.10/dist-packages/imageio/plugins/pillow.py:390: DeprecationWarning: The keyword `fps` is no longer supported. Use `duration`(in ms) instead, e.g. `fps=50` == `duration=20` (1000 * 1/50).\n",
            "  warnings.warn(\n"
          ]
        },
        {
          "output_type": "execute_result",
          "data": {
            "image/gif": "[encoded data removed]",
            "text/plain": [
              "<IPython.core.display.Image object>"
            ]
          },
          "metadata": {},
          "execution_count": 270
        }
      ]
    }
  ]
}